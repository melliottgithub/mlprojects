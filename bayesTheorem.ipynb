{
 "cells": [
  {
   "attachments": {},
   "cell_type": "markdown",
   "metadata": {},
   "source": [
    "## Naive-Bayes\n",
    "\n",
    "### Task 1 - Bayesian Classification\n",
    "\n",
    "1. In a study of pleas and prison sentences, it is reported that 42% of the subjects were sent to prison. Among those sent to prison, 38% plead guilty. Among those not sent to prison, 50% plead guilty.<br>\n",
    "&emsp;a) If a subject is randomly selected, what is the probability of getting a person who was not sent to prison? <br>\n",
    "&emsp;b) If a subject is randomly selected, and it is known that the subject entered a quilty plea, what is the probability that this subject was not sent to prison? <br>\n",
    "&emsp;c) If a subject is randomly selected, what is the probability of getting someone who was sent to prison?<br>\n",
    "&emsp;d) If a subject is randomly selected, and it is known that the subject entered a guilty plea, what is the probability that this person was sent to prison?\n",
    "\n"
   ]
  },
  {
   "attachments": {},
   "cell_type": "markdown",
   "metadata": {},
   "source": [
    "# Bayes Theorem:\n",
    "The probability of event A, given that event B has subsequently occurred can be defined as \n",
    "\n",
    "$$\n",
    "P(A~|~B) = \\frac{P(A) \\cdot P(B~|~A)}{(~P(A) \\cdot P(B~|A~)~) + (~P(A') \\cdot P(B~|A'~)~)}\n",
    "$$\n",
    "\n",
    "**Note:** P(A')denotes P(not A) and the same applies for P(B').\n"
   ]
  },
  {
   "attachments": {},
   "cell_type": "markdown",
   "metadata": {},
   "source": [
    "# What we know at this point\n",
    "&emsp;&emsp;Let **A** be the event of **sent to prison**.\n",
    "\n",
    "$$ P(A) = .42 $$\n",
    "\n",
    "$$ P(A') = .58 $$\n",
    "\n",
    " Let **B** be the event of **entering a quilty plea**."
   ]
  },
  {
   "attachments": {},
   "cell_type": "markdown",
   "metadata": {},
   "source": [
    "#Continue defining the probabilites and compute b-d"
   ]
  },
  {
   "attachments": {},
   "cell_type": "markdown",
   "metadata": {},
   "source": [
    "$$\n",
    "P(A|B) = \\frac{P(A) \\cdot P(B|A)}{(P(A) \\cdot P(B|A)~) + (P(A') \\cdot P(B|A'))}\n",
    "$$\n",
    "$$\n",
    "P(A|B) = \\frac{P(A \\cap B)}{P(B)} ~where~ P(A \\cap B) = P(A) \\cdot P(B|A)\n",
    "$$\n",
    "$$\n",
    "P(B) = P(A) \\cdot P(B|A) + P(A') \\cdot P(B|A')\n",
    "$$\n",
    "$$ \n",
    "P(A|B) => Conditional~ probability ~of ~event ~A ~given ~event ~B \n",
    "$$\n",
    "$$ P(A \\cap B)\n",
    "=> Probability ~intersection ~event ~A ~and ~event ~B \n",
    "$$ \n",
    "$$ \n",
    "P(B) => Probability ~of ~event ~B \n",
    "$$\n",
    "$$ \n",
    "P(A) => Probability ~of ~event ~A \n",
    "$$\n",
    "$$ \n",
    "P(B|A) => Conditional~ probability ~of ~event ~B ~given ~event ~A \n",
    "$$\n",
    "$$ \n",
    "P(A') => Probability ~of ~complement ~event ~A \n",
    "$$\n",
    "$$ \n",
    "P(B|A') => Conditional~ probability ~of ~event ~B ~given ~complement ~event ~A \n",
    "$$"
   ]
  },
  {
   "cell_type": "code",
   "execution_count": 65,
   "metadata": {},
   "outputs": [],
   "source": [
    "# we know P(A) = P(sent to prison) = .42 (it occurs 42% of the time) subject were sent to prison\n",
    "# we know P(A') = P(not sent to prison) = .58 (it did not occur 58% of the time) subject were not sent to prison\n",
    "# we know P(B|A) = P(pleaded guilty|sent to prison) = .38 (it occurs 38% of the time) subject pleaded guilty\n",
    "# we know P(B'|A) = P(pleaded not guilty|sent to prison) = .62 (it did not occur 62% of the time) subject pleaded not guilty\n",
    "# P(B|A') =  P(pleaded guilty|not sent to prison) = .50 (it occurs 50% of the time) subject pleaded guilty\n"
   ]
  },
  {
   "cell_type": "code",
   "execution_count": 66,
   "metadata": {},
   "outputs": [
    {
     "name": "stdout",
     "output_type": "stream",
     "text": [
      "Answer a => P(A'):  0.5800000000000001\n"
     ]
    }
   ],
   "source": [
    "# a = P(A') = 1 - P(A) = .58\n",
    "a = 1 - .42\n",
    "print(\"Answer a => P(A'): \", a)\n"
   ]
  },
  {
   "cell_type": "code",
   "execution_count": 67,
   "metadata": {},
   "outputs": [
    {
     "name": "stdout",
     "output_type": "stream",
     "text": [
      "P(B):  0.4496\n",
      "Answer b =>P(A'|B):  0.645017793594306\n"
     ]
    }
   ],
   "source": [
    "\n",
    "# b =P(A'|B) = P(A') * P(B|A') / P(B) => \n",
    "# P(not sent to prison|pleaded guilty) \n",
    "# =  P(not sent to prison) * P(pleaded guilty|not sent to prison) / P(pleaded guilty) \n",
    "# = .58 * .50 / X => \n",
    "# X = P(B) = P(pleaded guilty) = P(A) * P(B|A) + P(A') * P(B|A') =>\n",
    "# P(sent to prison) * P(pleaded guilty|sent to prison) \n",
    "# + P(not sent to prison) * P(pleaded guilty|not sent to prison) =>\n",
    "X = .42 * .38 + .58 * .50\n",
    "print('P(B): ', X)\n",
    "b = (.58 * .50) / X\n",
    "print(\"Answer b =>P(A'|B): \", b)\n"
   ]
  },
  {
   "cell_type": "code",
   "execution_count": 68,
   "metadata": {},
   "outputs": [
    {
     "name": "stdout",
     "output_type": "stream",
     "text": [
      "Answer c => P(A):  0.42\n"
     ]
    }
   ],
   "source": [
    "# c = P(A) = .42\n",
    "c = .42\n",
    "print('Answer c => P(A): ', c)\n"
   ]
  },
  {
   "cell_type": "code",
   "execution_count": 69,
   "metadata": {},
   "outputs": [
    {
     "name": "stdout",
     "output_type": "stream",
     "text": [
      "0.4496\n",
      "Answer d => P(A):  0.35498220640569395\n"
     ]
    }
   ],
   "source": [
    "# d = P(A|B) = P(A) * P(B|A) / P(B) =>\n",
    "# P(B) = X on question b\n",
    "print(X)\n",
    "d = .42 * .38 / X\n",
    "print('Answer d => P(A): ', d)\n"
   ]
  },
  {
   "attachments": {},
   "cell_type": "markdown",
   "metadata": {},
   "source": [
    "2. Given the following table:\n",
    "\n",
    "|Customer ID| Gender  |Car Type|Shirt Size |Class|\n",
    "|:---------:|:-------:|:------:|:---------:|:---:|\n",
    "|1          |M        |Family  |Small      |CO   |\n",
    "|2          |M        |Sports  |Medium     |CO   |\n",
    "|3          |M        |Sports  |Medium     |CO   |\n",
    "|4          |M        |Sports  |Large      |CO   |\n",
    "|5          |M        |Sports  |Extra Large|CO   |\n",
    "|6          |M        |Sports  |Extra Large|CO   |\n",
    "|7          |F        |Sports  |Small      |CO   |\n",
    "|8          |F        |Sports  |Small      |CO   |\n",
    "|9          |F        |Sports  |Medium     |CO   |\n",
    "|10         |F        |Luxury  |Large      |CO   |\n",
    "|11         |M        |Family  |Large      |C1   |\n",
    "|12         |M        |Family  |Extra Large|C1   |\n",
    "|13         |M        |Family  |Medium     |C1   |\n",
    "|14         |M        |Luxury  |Extra Large|C1   |\n",
    "|15         |F        |Luxury  |Small      |C1   |\n",
    "|16         |F        |Luxury  |Small      |C1   |\n",
    "|17         |F        |Luxury  |Medium     |C1   |\n",
    "|18         |F        |Luxury  |Medium     |C1   |\n",
    "|19         |F        |Luxury  |Medium     |C1   |\n",
    "|20         |F        |Luxury  |Large      |C1   |<br>\n",
    "\n",
    "&emsp;a) What is the value of each of the following probabilities?<br>\n",
    "&emsp;   - P(Gender=M | Class=C0)<br>\n",
    "&emsp;   - P(Gender=F | Class=C1)<br>\n",
    "&emsp;   - P(Car Type=Family | Class=C0)<br>\n",
    "&emsp;   - P(Car Type=Family | Class=C1)<br>\n",
    "&emsp;   - P(Shirt Size=Medium | Class=C0)<br>\n",
    "&emsp;   - P(Shirt Size=Medium | Class=C1)<br>\n",
    "<br>\n",
    "&emsp;b) Use Naive Bayes Classifier to find the class of P(Gender=F | Car Type=Family| Shirt Size=Medium)\n",
    "\n"
   ]
  },
  {
   "cell_type": "code",
   "execution_count": 70,
   "metadata": {},
   "outputs": [
    {
     "data": {
      "text/html": [
       "<div>\n",
       "<style scoped>\n",
       "    .dataframe tbody tr th:only-of-type {\n",
       "        vertical-align: middle;\n",
       "    }\n",
       "\n",
       "    .dataframe tbody tr th {\n",
       "        vertical-align: top;\n",
       "    }\n",
       "\n",
       "    .dataframe thead th {\n",
       "        text-align: right;\n",
       "    }\n",
       "</style>\n",
       "<table border=\"1\" class=\"dataframe\">\n",
       "  <thead>\n",
       "    <tr style=\"text-align: right;\">\n",
       "      <th></th>\n",
       "      <th>Gender</th>\n",
       "      <th>Car Type</th>\n",
       "      <th>Shirt Size</th>\n",
       "      <th>Class</th>\n",
       "    </tr>\n",
       "  </thead>\n",
       "  <tbody>\n",
       "    <tr>\n",
       "      <th>0</th>\n",
       "      <td>M</td>\n",
       "      <td>Family</td>\n",
       "      <td>Small</td>\n",
       "      <td>CO</td>\n",
       "    </tr>\n",
       "    <tr>\n",
       "      <th>1</th>\n",
       "      <td>M</td>\n",
       "      <td>Sports</td>\n",
       "      <td>Medium</td>\n",
       "      <td>CO</td>\n",
       "    </tr>\n",
       "    <tr>\n",
       "      <th>2</th>\n",
       "      <td>M</td>\n",
       "      <td>Sports</td>\n",
       "      <td>Medium</td>\n",
       "      <td>CO</td>\n",
       "    </tr>\n",
       "    <tr>\n",
       "      <th>3</th>\n",
       "      <td>M</td>\n",
       "      <td>Sports</td>\n",
       "      <td>Large</td>\n",
       "      <td>CO</td>\n",
       "    </tr>\n",
       "    <tr>\n",
       "      <th>4</th>\n",
       "      <td>M</td>\n",
       "      <td>Sports</td>\n",
       "      <td>Extra Large</td>\n",
       "      <td>CO</td>\n",
       "    </tr>\n",
       "  </tbody>\n",
       "</table>\n",
       "</div>"
      ],
      "text/plain": [
       "  Gender Car Type   Shirt Size Class\n",
       "0      M   Family        Small    CO\n",
       "1      M   Sports       Medium    CO\n",
       "2      M   Sports       Medium    CO\n",
       "3      M   Sports        Large    CO\n",
       "4      M   Sports  Extra Large    CO"
      ]
     },
     "execution_count": 70,
     "metadata": {},
     "output_type": "execute_result"
    }
   ],
   "source": [
    "import pandas as pd\n",
    "\n",
    "data = {\n",
    "        'Gender': ['M', 'M', 'M', 'M', 'M', 'M', 'F', 'F', 'F', 'F', 'M', 'M', 'M', 'M', 'F', 'F', 'F', 'F', 'F', 'F'],\n",
    "        'Car Type': ['Family', 'Sports', 'Sports', 'Sports', 'Sports', 'Sports', 'Sports', 'Sports', 'Sports', 'Luxury', 'Family', 'Family', 'Family', 'Luxury', 'Luxury', 'Luxury', 'Luxury', 'Luxury', 'Luxury', 'Luxury'],\n",
    "        'Shirt Size': ['Small', 'Medium', 'Medium', 'Large', 'Extra Large', 'Extra Large', 'Small', 'Small', 'Medium', 'Large', 'Large', 'Extra Large', 'Medium', 'Extra Large', 'Small', 'Small', 'Medium', 'Medium', 'Medium', 'Large'],\n",
    "        'Class': ['CO', 'CO', 'CO', 'CO', 'CO', 'CO', 'CO', 'CO', 'CO', 'CO', 'C1', 'C1', 'C1', 'C1', 'C1', 'C1', 'C1', 'C1', 'C1', 'C1']}\n",
    "\n",
    "df = pd.DataFrame(data)\n",
    "df.head()\n"
   ]
  },
  {
   "cell_type": "code",
   "execution_count": 71,
   "metadata": {},
   "outputs": [
    {
     "data": {
      "text/plain": [
       "M    10\n",
       "F    10\n",
       "Name: Gender, dtype: int64"
      ]
     },
     "execution_count": 71,
     "metadata": {},
     "output_type": "execute_result"
    }
   ],
   "source": [
    "gender_count = df['Gender'].value_counts()\n",
    "gender_count"
   ]
  },
  {
   "cell_type": "code",
   "execution_count": 72,
   "metadata": {},
   "outputs": [
    {
     "data": {
      "text/plain": [
       "10"
      ]
     },
     "execution_count": 72,
     "metadata": {},
     "output_type": "execute_result"
    }
   ],
   "source": [
    "male_count = gender_count.loc['M']\n",
    "male_count"
   ]
  },
  {
   "cell_type": "code",
   "execution_count": 73,
   "metadata": {},
   "outputs": [
    {
     "data": {
      "text/plain": [
       "M    0.5\n",
       "F    0.5\n",
       "Name: Gender, dtype: float64"
      ]
     },
     "execution_count": 73,
     "metadata": {},
     "output_type": "execute_result"
    }
   ],
   "source": [
    "df['Gender'].value_counts(normalize=True)"
   ]
  },
  {
   "cell_type": "code",
   "execution_count": 74,
   "metadata": {},
   "outputs": [
    {
     "data": {
      "text/plain": [
       "((20, 4), 0.5)"
      ]
     },
     "execution_count": 74,
     "metadata": {},
     "output_type": "execute_result"
    }
   ],
   "source": [
    "df.shape, male_count/df.shape[0]\n"
   ]
  },
  {
   "cell_type": "code",
   "execution_count": 75,
   "metadata": {},
   "outputs": [
    {
     "data": {
      "text/plain": [
       "(0,\n",
       " 0,\n",
       " Gender        0\n",
       " Car Type      0\n",
       " Shirt Size    0\n",
       " Class         0\n",
       " dtype: int64,\n",
       " Gender        0\n",
       " Car Type      0\n",
       " Shirt Size    0\n",
       " Class         0\n",
       " dtype: int64)"
      ]
     },
     "execution_count": 75,
     "metadata": {},
     "output_type": "execute_result"
    }
   ],
   "source": [
    "df['Gender'].isnull().sum(), df['Gender'].isna().sum(), df.isna().sum(), df.isnull().sum()"
   ]
  },
  {
   "cell_type": "code",
   "execution_count": 76,
   "metadata": {},
   "outputs": [
    {
     "name": "stdout",
     "output_type": "stream",
     "text": [
      "Probability of selecting a Sports car: 0.4\n",
      "Probability of selecting a Luxury car: 0.4\n",
      "Probability of selecting a Family car: 0.2\n"
     ]
    }
   ],
   "source": [
    "car_type_counts = df['Car Type'].value_counts()\n",
    "total_customers = df.shape[0]\n",
    "\n",
    "for car_type in car_type_counts.index:\n",
    "    car_type_count = car_type_counts.loc[car_type]\n",
    "    probability = car_type_count / total_customers\n",
    "    print(f\"Probability of selecting a {car_type} car: {probability}\")"
   ]
  },
  {
   "cell_type": "code",
   "execution_count": 77,
   "metadata": {},
   "outputs": [
    {
     "name": "stdout",
     "output_type": "stream",
     "text": [
      "Gender\n",
      "--------------\n",
      "M    10\n",
      "F    10\n",
      "Name: Gender, dtype: int64\n",
      "Car Type\n",
      "--------------\n",
      "Sports    8\n",
      "Luxury    8\n",
      "Family    4\n",
      "Name: Car Type, dtype: int64\n",
      "Shirt Size\n",
      "--------------\n",
      "Medium         7\n",
      "Small          5\n",
      "Large          4\n",
      "Extra Large    4\n",
      "Name: Shirt Size, dtype: int64\n",
      "Class\n",
      "--------------\n",
      "CO    10\n",
      "C1    10\n",
      "Name: Class, dtype: int64\n"
     ]
    }
   ],
   "source": [
    "categories = ['Gender', 'Car Type', 'Shirt Size', 'Class']\n",
    "for category in categories:\n",
    "  print(category)\n",
    "  print('--------------')\n",
    "  print(df[category].value_counts())"
   ]
  },
  {
   "cell_type": "code",
   "execution_count": 78,
   "metadata": {},
   "outputs": [],
   "source": [
    "# probabilities = df.groupby(categories).size()/len(df)\n",
    "# probabilities = probabilities.to_dict()\n",
    "# print(probabilities)"
   ]
  },
  {
   "cell_type": "code",
   "execution_count": 92,
   "metadata": {},
   "outputs": [
    {
     "name": "stdout",
     "output_type": "stream",
     "text": [
      "{'P(Gender=M)': 0.5, 'P(Gender=F)': 0.5, 'P(Car Type=Sports)': 0.4, 'P(Car Type=Luxury)': 0.4, 'P(Car Type=Family)': 0.2, 'P(Shirt Size=Medium)': 0.35, 'P(Shirt Size=Small)': 0.25, 'P(Shirt Size=Large)': 0.2, 'P(Shirt Size=Extra Large)': 0.2, 'P(Class=CO)': 0.5, 'P(Class=C1)': 0.5}\n"
     ]
    }
   ],
   "source": [
    "\n",
    "total_customers = df.shape[0]\n",
    "probabilities = {}\n",
    "\n",
    "for category in categories:\n",
    "    category_counts = df[category].value_counts()\n",
    "    for cat in category_counts.index:\n",
    "        cat_count = category_counts.loc[cat]\n",
    "        # item divided by total items in the dataset (df.shape[0]) \n",
    "        # gives us the probability of selecting that item\n",
    "        probability = cat_count / total_customers\n",
    "        key = f\"P({category}={cat})\"\n",
    "        probabilities[key] = probability\n",
    "print(probabilities)\n"
   ]
  },
  {
   "cell_type": "code",
   "execution_count": 80,
   "metadata": {},
   "outputs": [
    {
     "name": "stdout",
     "output_type": "stream",
     "text": [
      "P(Gender=M): 0.5\n",
      "P(Gender=F): 0.5\n",
      "P(Car Type=Sports): 0.4\n",
      "P(Car Type=Luxury): 0.4\n",
      "P(Car Type=Family): 0.2\n",
      "P(Shirt Size=Medium): 0.35\n",
      "P(Shirt Size=Small): 0.25\n",
      "P(Shirt Size=Large): 0.2\n",
      "P(Shirt Size=Extra Large): 0.2\n",
      "P(Class=CO): 0.5\n",
      "P(Class=C1): 0.5\n"
     ]
    }
   ],
   "source": [
    "#P(Gender = M) = 0.50\n",
    "#P(Gender = F) = 0.50\n",
    "for cat, prob in probabilities.items():\n",
    "    print(f\"{cat}: {prob}\")"
   ]
  },
  {
   "cell_type": "code",
   "execution_count": 81,
   "metadata": {},
   "outputs": [],
   "source": [
    "#calculate_probability(probabilities['P(Gender=M)'],probabilities['P(Class=CO)'])\n",
    "# I could build a function to calculate the probability of a given event(if more time)\n"
   ]
  },
  {
   "cell_type": "code",
   "execution_count": 82,
   "metadata": {},
   "outputs": [],
   "source": [
    "results = {} # dictionary to store the results 'P(Gender=M|Class=C0)':"
   ]
  },
  {
   "attachments": {},
   "cell_type": "markdown",
   "metadata": {},
   "source": [
    "$$\n",
    "P(A|B) = \\frac{P(A \\cap B)}{P(B)}\n",
    "$$"
   ]
  },
  {
   "cell_type": "code",
   "execution_count": 83,
   "metadata": {},
   "outputs": [
    {
     "data": {
      "text/plain": [
       "0.6"
      ]
     },
     "execution_count": 83,
     "metadata": {},
     "output_type": "execute_result"
    }
   ],
   "source": [
    "intersections = {}\n",
    "# find intersections of two events (A and B) / P(B) = P(A ⋂ B) / P(B)\n",
    "# P(Gender=M ⋂ Class=CO)': df.query('Gender == \"M\" & Class == \"CO\"').shape[0]\n",
    "inter = intersections['P(Gender=M ⋂ Class=CO)'] = df.query('Gender == \"M\" & Class == \"CO\"').shape[0] / df.shape[0]\n",
    "#divide by P(Class=CO)\n",
    "# P(Class=CO)': df.query('Class == \"CO\"').shape[0]\n",
    "prob = probabilities['P(Class=CO)']\n",
    "results['P(Gender=M|Class=CO)'] =  inter / prob\n",
    "results['P(Gender=M|Class=CO)']\n"
   ]
  },
  {
   "cell_type": "code",
   "execution_count": 84,
   "metadata": {},
   "outputs": [],
   "source": [
    "inter = intersections['P(Gender=F ⋂ Class=C1)'] = df.query('Gender == \"F\" & Class == \"C1\"').shape[0] / df.shape[0]\n",
    "prob = probabilities['P(Class=C1)']\n",
    "results['P(Gender=F|Class=C1)'] =  inter / prob\n"
   ]
  },
  {
   "cell_type": "code",
   "execution_count": 85,
   "metadata": {},
   "outputs": [],
   "source": [
    "#\n",
    "inter = intersections['P(Car Type=Family ⋂ Class=CO)'] = df.query('`Car Type` == \"Family\" & Class == \"CO\"').shape[0] / df.shape[0]\n",
    "prob = probabilities['P(Class=CO)']\n",
    "results['P(Car Type=Family|Class=CO)'] =  inter / prob\n"
   ]
  },
  {
   "cell_type": "code",
   "execution_count": 86,
   "metadata": {},
   "outputs": [],
   "source": [
    "inter = intersections['P(Car Type=Family ⋂ Class=C1)'] = df.query('`Car Type` == \"Family\" & Class == \"C1\"').shape[0] / df.shape[0]\n",
    "prob = probabilities['P(Class=C1)']\n",
    "results['P(Car Type=Family|Class=C1)'] =  inter / prob\n"
   ]
  },
  {
   "cell_type": "code",
   "execution_count": 87,
   "metadata": {},
   "outputs": [],
   "source": [
    "inter = intersections['P(Shirt Size=Medium ⋂ Class=CO)'] = df.query('`Shirt Size` == \"Medium\" & Class == \"CO\"').shape[0] / df.shape[0]\n",
    "prob = probabilities['P(Class=CO)']\n",
    "results['P(Shirt Size=Medium|Class=CO)'] =  inter / prob\n"
   ]
  },
  {
   "cell_type": "code",
   "execution_count": 88,
   "metadata": {},
   "outputs": [
    {
     "data": {
      "text/plain": [
       "{'P(Gender=M|Class=CO)': 0.6,\n",
       " 'P(Gender=F|Class=C1)': 0.6,\n",
       " 'P(Car Type=Family|Class=CO)': 0.1,\n",
       " 'P(Car Type=Family|Class=C1)': 0.3,\n",
       " 'P(Shirt Size=Medium|Class=CO)': 0.3,\n",
       " 'P(Shirt Size=Medium|Class=C1)': 0.4}"
      ]
     },
     "execution_count": 88,
     "metadata": {},
     "output_type": "execute_result"
    }
   ],
   "source": [
    "inter = intersections['P(Shirt Size=Medium ⋂ Class=C1)'] = df.query('`Shirt Size` == \"Medium\" & Class == \"C1\"').shape[0] / df.shape[0]\n",
    "prob = probabilities['P(Class=C1)']\n",
    "results['P(Shirt Size=Medium|Class=C1)'] =  inter / prob\n",
    "results"
   ]
  },
  {
   "cell_type": "code",
   "execution_count": 89,
   "metadata": {},
   "outputs": [
    {
     "data": {
      "text/plain": [
       "6"
      ]
     },
     "execution_count": 89,
     "metadata": {},
     "output_type": "execute_result"
    }
   ],
   "source": [
    "# another way to calculate the probability of a given event\n",
    "df[(df['Gender'] == 'M') & (df['Class'] == 'CO')].shape[0]"
   ]
  },
  {
   "attachments": {},
   "cell_type": "markdown",
   "metadata": {},
   "source": [
    "&emsp;a) What is the value of each of the following probabilities?<br>\n",
    "&emsp;   - P(Gender=M | Class=C0)<br>\n",
    "&emsp;   - P(Gender=F | Class=C1)<br>\n",
    "&emsp;   - P(Car Type=Family | Class=C0)<br>\n",
    "&emsp;   - P(Car Type=Family | Class=C1)<br>\n",
    "&emsp;   - P(Shirt Size=Medium | Class=C0)<br>\n",
    "&emsp;   - P(Shirt Size=Medium | Class=C1)<br>\n",
    "<br>\n"
   ]
  },
  {
   "cell_type": "code",
   "execution_count": 90,
   "metadata": {},
   "outputs": [
    {
     "name": "stdout",
     "output_type": "stream",
     "text": [
      "P(Gender=M|Class=CO): 0.6\n",
      "P(Gender=F|Class=C1): 0.6\n",
      "P(Car Type=Family|Class=CO): 0.1\n",
      "P(Car Type=Family|Class=C1): 0.3\n",
      "P(Shirt Size=Medium|Class=CO): 0.3\n",
      "P(Shirt Size=Medium|Class=C1): 0.4\n"
     ]
    }
   ],
   "source": [
    "for prob, value in results.items():\n",
    "    print(f\"{prob}: {value}\")"
   ]
  },
  {
   "attachments": {},
   "cell_type": "markdown",
   "metadata": {},
   "source": [
    "&emsp;b) Use Naive Bayes Classifier to find the class of P(Gender=F | Car Type=Family| Shirt Size=Medium)\n",
    "\n"
   ]
  },
  {
   "attachments": {},
   "cell_type": "markdown",
   "metadata": {},
   "source": [
    "$$\n",
    "P(y|x1,x2,x3...) = \\frac{(P(x1) \\cdot P(x2) \\cdot P(x3)... | y ) \\cdot P(y)}{(P(x1) \\cdot P(x2) \\cdot P(x3)...)}\n",
    "$$"
   ]
  },
  {
   "attachments": {},
   "cell_type": "markdown",
   "metadata": {},
   "source": [
    "$$\n",
    "P(Gender=F | Car Type=Family| Shirt Size=Medium) = \n",
    "\\frac{P(Shirt Size=Medium | Gender=F) \\cdot P(Car Type=Family | Gender=F) \\cdot P(Gender=F)}{P(Shirt Size=Medium) \\cdot P(Car Type=Family)}\n",
    "$$"
   ]
  },
  {
   "cell_type": "code",
   "execution_count": null,
   "metadata": {},
   "outputs": [],
   "source": [
    "# P(Car Type=Family|Gender=F) = 0 => therefore P(Gender=F|Car Type=Family|Shirt Size=Medium) = 0"
   ]
  }
 ],
 "metadata": {
  "kernelspec": {
   "display_name": "Python 3",
   "language": "python",
   "name": "python3"
  },
  "language_info": {
   "codemirror_mode": {
    "name": "ipython",
    "version": 3
   },
   "file_extension": ".py",
   "mimetype": "text/x-python",
   "name": "python",
   "nbconvert_exporter": "python",
   "pygments_lexer": "ipython3",
   "version": "3.11.1"
  },
  "orig_nbformat": 4,
  "vscode": {
   "interpreter": {
    "hash": "753e19518da2b2101a1d54ab3a97bd87587dd78d828089b583550e997c6bee0b"
   }
  }
 },
 "nbformat": 4,
 "nbformat_minor": 2
}
