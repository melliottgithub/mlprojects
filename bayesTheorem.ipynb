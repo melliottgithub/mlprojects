{
 "cells": [
  {
   "attachments": {},
   "cell_type": "markdown",
   "metadata": {},
   "source": [
    "## Naive-Bayes\n",
    "\n",
    "### Task 1 - Bayesian Classification\n",
    "\n",
    "1. In a study of pleas and prison sentences, it is reported that 42% of the subjects were sent to prison. Among those sent to prison, 38% plead guilty. Among those not sent to prison, 50% plead guilty.<br>\n",
    "&emsp;a) If a subject is randomly selected, what is the probability of getting a person who was not sent to prison? <br>\n",
    "&emsp;b) If a subject is randomly selected, and it is known that the subject entered a quilty plea, what is the probability that this subject was not sent to prison? <br>\n",
    "&emsp;c) If a subject is randomly selected, what is the probability of getting someone who was sent to prison?<br>\n",
    "&emsp;d) If a subject is randomly selected, and it is known that the subject entered a guilty plea, what is the probability that this person was sent to prison?\n",
    "\n"
   ]
  },
  {
   "attachments": {},
   "cell_type": "markdown",
   "metadata": {},
   "source": [
    "# Bayes Theorem:\n",
    "The probability of event A, given that event B has subsequently occurred can be defined as \n",
    "\n",
    "$$\n",
    "P(A~|~B) = \\frac{P(A) \\cdot P(B~|~A)}{(~P(A) \\cdot P(B~|A~)~) + (~P(A') \\cdot P(B~|A'~)~)}\n",
    "$$\n",
    "\n",
    "**Note:** P(A')denotes P(not A) and the same applies for P(B').\n"
   ]
  },
  {
   "attachments": {},
   "cell_type": "markdown",
   "metadata": {},
   "source": [
    "# What we know at this point\n",
    "&emsp;&emsp;Let **A** be the event of **sent to prison**.\n",
    "\n",
    "$$ P(A) = .42 $$\n",
    "\n",
    "$$ P(A') = .58 $$\n",
    "\n",
    " Let **B** be the event of **entering a quilty plea**."
   ]
  },
  {
   "attachments": {},
   "cell_type": "markdown",
   "metadata": {},
   "source": [
    "#Continue defining the probabilites and compute b-d"
   ]
  },
  {
   "attachments": {},
   "cell_type": "markdown",
   "metadata": {},
   "source": [
    "$$\n",
    "P(A|B) = \\frac{P(A) \\cdot P(B|A)}{(P(A) \\cdot P(B|A)~) + (P(A') \\cdot P(B|A'))}\n",
    "$$"
   ]
  },
  {
   "attachments": {},
   "cell_type": "markdown",
   "metadata": {},
   "source": [
    "$$\n",
    "P(A|B) = \\frac{P(A \\cap B)}{P(B)} ~where~ P(A \\cap B) = P(A) \\cdot P(B|A)\n",
    "$$\n",
    "$$\n",
    "P(B) = P(A) \\cdot P(B|A) + P(A') \\cdot P(B|A')\n",
    "$$"
   ]
  },
  {
   "attachments": {},
   "cell_type": "markdown",
   "metadata": {},
   "source": [
    "$$ P(A|B) => Conditional~ probability ~of ~event ~A ~given ~event ~B $$\n",
    "$$P(A \\cap B)\n",
    "=> Probability ~intersection ~event ~A ~and ~event ~B $$ \n",
    "$$ P(B) => Probability ~of ~event ~B $$\n",
    "$$ P(A) => Probability ~of ~event ~A $$\n",
    "$$ P(B|A) => Conditional~ probability ~of ~event ~B ~given ~event ~A $$\n",
    "$$ P(A') => Probability ~of ~complement ~event ~A $$\n",
    "$$ P(B|A') => Conditional~ probability ~of ~event ~B ~given ~complement ~event ~A $$\n",
    "\n",
    "\n",
    "\n",
    "\n"
   ]
  },
  {
   "cell_type": "code",
   "execution_count": 22,
   "metadata": {},
   "outputs": [],
   "source": [
    "# we know P(A) = P(sent to prison) = .42 (it occurs 42% of the time) subject were sent to prison\n",
    "# we know P(A') = P(not sent to prison) = .58 (it did not occur 58% of the time) subject were not sent to prison\n",
    "# we know P(B|A) = P(pleaded guilty|sent to prison) = .38 (it occurs 38% of the time) subject pleaded guilty\n",
    "# we know P(B'|A) = P(pleaded not guilty|sent to prison) = .62 (it did not occur 62% of the time) subject pleaded not guilty\n",
    "# P(B|A') =  P(pleaded guilty|not sent to prison) = .50 (it occurs 50% of the time) subject pleaded guilty\n"
   ]
  },
  {
   "cell_type": "code",
   "execution_count": 40,
   "metadata": {},
   "outputs": [
    {
     "name": "stdout",
     "output_type": "stream",
     "text": [
      "Answer a => P(A'):  0.5800000000000001\n"
     ]
    }
   ],
   "source": [
    "# a = P(A') = 1 - P(A) = .58\n",
    "a = 1 - .42\n",
    "print(\"Answer a => P(A'): \", a)\n"
   ]
  },
  {
   "cell_type": "code",
   "execution_count": 41,
   "metadata": {},
   "outputs": [
    {
     "name": "stdout",
     "output_type": "stream",
     "text": [
      "P(B):  0.4496\n",
      "Answer b =>P(A'|B):  0.645017793594306\n"
     ]
    }
   ],
   "source": [
    "\n",
    "# b =P(A'|B) = P(A') * P(B|A') / P(B) => \n",
    "# P(not sent to prison|pleaded guilty) \n",
    "# =  P(not sent to prison) * P(pleaded guilty|not sent to prison) / P(pleaded guilty) \n",
    "# = .58 * .50 / X => \n",
    "# X = P(B) = P(pleaded guilty) = P(A) * P(B|A) + P(A') * P(B|A') =>\n",
    "# P(sent to prison) * P(pleaded guilty|sent to prison) \n",
    "# + P(not sent to prison) * P(pleaded guilty|not sent to prison) =>\n",
    "X = .42 * .38 + .58 * .50\n",
    "print('P(B): ', X)\n",
    "b = .58 * .50 / X\n",
    "print(\"Answer b =>P(A'|B): \", b)\n"
   ]
  },
  {
   "cell_type": "code",
   "execution_count": 42,
   "metadata": {},
   "outputs": [
    {
     "name": "stdout",
     "output_type": "stream",
     "text": [
      "Answer c => P(A):  0.42\n"
     ]
    }
   ],
   "source": [
    "# c = P(A) = .42\n",
    "c = .42\n",
    "print('Answer c => P(A): ', c)\n"
   ]
  },
  {
   "cell_type": "code",
   "execution_count": 45,
   "metadata": {},
   "outputs": [
    {
     "name": "stdout",
     "output_type": "stream",
     "text": [
      "0.4496\n",
      "Answer d => P(A):  0.35498220640569395\n"
     ]
    }
   ],
   "source": [
    "# d = P(A|B) = P(A) * P(B|A) / P(B) =>\n",
    "# P(B) = X on question b\n",
    "print(X)\n",
    "d = .42 * .38 / X\n",
    "print('Answer d => P(A): ', d)\n"
   ]
  },
  {
   "attachments": {},
   "cell_type": "markdown",
   "metadata": {},
   "source": [
    "2. Given the following table:\n",
    "\n",
    "|Customer ID| Gender  |Car Type|Shirt Size |Class|\n",
    "|:---------:|:-------:|:------:|:---------:|:---:|\n",
    "|1          |M        |Family  |Small      |CO   |\n",
    "|2          |M        |Sports  |Medium     |CO   |\n",
    "|3          |M        |Sports  |Medium     |CO   |\n",
    "|4          |M        |Sports  |Large      |CO   |\n",
    "|5          |M        |Sports  |Extra Large|CO   |\n",
    "|6          |M        |Sports  |Extra Large|CO   |\n",
    "|7          |F        |Sports  |Small      |CO   |\n",
    "|8          |F        |Sports  |Small      |CO   |\n",
    "|9          |F        |Sports  |Medium     |CO   |\n",
    "|10         |F        |Luxury  |Large      |CO   |\n",
    "|11         |M        |Family  |Large      |C1   |\n",
    "|12         |M        |Family  |Extra Large|C1   |\n",
    "|13         |M        |Family  |Medium     |C1   |\n",
    "|14         |M        |Luxury  |Extra Large|C1   |\n",
    "|15         |F        |Luxury  |Small      |C1   |\n",
    "|16         |F        |Luxury  |Small      |C1   |\n",
    "|17         |F        |Luxury  |Medium     |C1   |\n",
    "|18         |F        |Luxury  |Medium     |C1   |\n",
    "|19         |F        |Luxury  |Medium     |C1   |\n",
    "|20         |F        |Luxury  |Large      |C1   |\n",
    "<br>\n",
    "\n",
    "&emsp;a) What is the value of each of the following probabilities?<br>\n",
    "&emsp;   - P(Gender=M | Class=C0)<br>\n",
    "&emsp;   - P(Gender=F | Class=C1)<br>\n",
    "&emsp;   - P(Car Type=Family | Class=C0)<br>\n",
    "&emsp;   - P(Car Type=Family | Class=C1)<br>\n",
    "&emsp;   - P(Shirt Size=Medium | Class=C0)<br>\n",
    "&emsp;   - P(Shirt Size=Medium | Class=C1)<br>\n",
    "<br>\n",
    "&emsp;b) Use Naive Bayes Classifier to find the class of P(Gender=F | Car Type=Family| Shirt Size=Medium)\n",
    "&emsp;c) If a subject is randomly selected, what is the probability of getting someone who was sent to prison?<br>\n",
    "&emsp;d) If a subject is randomly selected, and it is known that the subject entered a guilty plea, what is the probability that this person was sent to prison?\n"
   ]
  },
  {
   "cell_type": "code",
   "execution_count": 48,
   "metadata": {},
   "outputs": [
    {
     "data": {
      "text/html": [
       "<div>\n",
       "<style scoped>\n",
       "    .dataframe tbody tr th:only-of-type {\n",
       "        vertical-align: middle;\n",
       "    }\n",
       "\n",
       "    .dataframe tbody tr th {\n",
       "        vertical-align: top;\n",
       "    }\n",
       "\n",
       "    .dataframe thead th {\n",
       "        text-align: right;\n",
       "    }\n",
       "</style>\n",
       "<table border=\"1\" class=\"dataframe\">\n",
       "  <thead>\n",
       "    <tr style=\"text-align: right;\">\n",
       "      <th></th>\n",
       "      <th>Customer ID</th>\n",
       "      <th>Gender</th>\n",
       "      <th>Car Type</th>\n",
       "      <th>Shirt Size</th>\n",
       "      <th>Class</th>\n",
       "    </tr>\n",
       "  </thead>\n",
       "  <tbody>\n",
       "    <tr>\n",
       "      <th>0</th>\n",
       "      <td>1</td>\n",
       "      <td>M</td>\n",
       "      <td>Family</td>\n",
       "      <td>Small</td>\n",
       "      <td>CO</td>\n",
       "    </tr>\n",
       "    <tr>\n",
       "      <th>1</th>\n",
       "      <td>2</td>\n",
       "      <td>M</td>\n",
       "      <td>Sports</td>\n",
       "      <td>Medium</td>\n",
       "      <td>CO</td>\n",
       "    </tr>\n",
       "    <tr>\n",
       "      <th>2</th>\n",
       "      <td>3</td>\n",
       "      <td>M</td>\n",
       "      <td>Sports</td>\n",
       "      <td>Medium</td>\n",
       "      <td>CO</td>\n",
       "    </tr>\n",
       "    <tr>\n",
       "      <th>3</th>\n",
       "      <td>4</td>\n",
       "      <td>M</td>\n",
       "      <td>Sports</td>\n",
       "      <td>Large</td>\n",
       "      <td>CO</td>\n",
       "    </tr>\n",
       "    <tr>\n",
       "      <th>4</th>\n",
       "      <td>5</td>\n",
       "      <td>M</td>\n",
       "      <td>Sports</td>\n",
       "      <td>Extra Large</td>\n",
       "      <td>CO</td>\n",
       "    </tr>\n",
       "  </tbody>\n",
       "</table>\n",
       "</div>"
      ],
      "text/plain": [
       "   Customer ID Gender Car Type   Shirt Size Class\n",
       "0            1      M   Family        Small    CO\n",
       "1            2      M   Sports       Medium    CO\n",
       "2            3      M   Sports       Medium    CO\n",
       "3            4      M   Sports        Large    CO\n",
       "4            5      M   Sports  Extra Large    CO"
      ]
     },
     "execution_count": 48,
     "metadata": {},
     "output_type": "execute_result"
    }
   ],
   "source": [
    "import pandas as pd\n",
    "\n",
    "data = {'Customer ID': [1, 2, 3, 4, 5, 6, 7, 8, 9, 10, 11, 12, 13, 14, 15, 16, 17, 18, 19, 20],\n",
    "        'Gender': ['M', 'M', 'M', 'M', 'M', 'M', 'F', 'F', 'F', 'F', 'M', 'M', 'M', 'M', 'F', 'F', 'F', 'F', 'F', 'F'],\n",
    "        'Car Type': ['Family', 'Sports', 'Sports', 'Sports', 'Sports', 'Sports', 'Sports', 'Sports', 'Sports', 'Luxury', 'Family', 'Family', 'Family', 'Luxury', 'Luxury', 'Luxury', 'Luxury', 'Luxury', 'Luxury', 'Luxury'],\n",
    "        'Shirt Size': ['Small', 'Medium', 'Medium', 'Large', 'Extra Large', 'Extra Large', 'Small', 'Small', 'Medium', 'Large', 'Large', 'Extra Large', 'Medium', 'Extra Large', 'Small', 'Small', 'Medium', 'Medium', 'Medium', 'Large'],\n",
    "        'Class': ['CO', 'CO', 'CO', 'CO', 'CO', 'CO', 'CO', 'CO', 'CO', 'CO', 'C1', 'C1', 'C1', 'C1', 'C1', 'C1', 'C1', 'C1', 'C1', 'C1']}\n",
    "\n",
    "df = pd.DataFrame(data)\n",
    "df.head()\n"
   ]
  },
  {
   "cell_type": "code",
   "execution_count": null,
   "metadata": {},
   "outputs": [],
   "source": []
  }
 ],
 "metadata": {
  "kernelspec": {
   "display_name": "Python 3",
   "language": "python",
   "name": "python3"
  },
  "language_info": {
   "codemirror_mode": {
    "name": "ipython",
    "version": 3
   },
   "file_extension": ".py",
   "mimetype": "text/x-python",
   "name": "python",
   "nbconvert_exporter": "python",
   "pygments_lexer": "ipython3",
   "version": "3.11.1"
  },
  "orig_nbformat": 4,
  "vscode": {
   "interpreter": {
    "hash": "753e19518da2b2101a1d54ab3a97bd87587dd78d828089b583550e997c6bee0b"
   }
  }
 },
 "nbformat": 4,
 "nbformat_minor": 2
}
